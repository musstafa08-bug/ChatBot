{
  "nbformat": 4,
  "nbformat_minor": 0,
  "metadata": {
    "accelerator": "GPU",
    "colab": {
      "name": "Chatbot.ipynb",
      "provenance": [],
      "collapsed_sections": [],
      "authorship_tag": "ABX9TyPqhys5ZndadRSBgQyzVy5c",
      "include_colab_link": true
    },
    "kernelspec": {
      "display_name": "Python 3",
      "name": "python3"
    }
  },
  "cells": [
    {
      "cell_type": "markdown",
      "metadata": {
        "id": "view-in-github",
        "colab_type": "text"
      },
      "source": [
        "<a href=\"https://colab.research.google.com/github/musstafa08-bug/ChatBot/blob/main/Chatbot.ipynb\" target=\"_parent\"><img src=\"https://colab.research.google.com/assets/colab-badge.svg\" alt=\"Open In Colab\"/></a>"
      ]
    },
    {
      "cell_type": "code",
      "metadata": {
        "colab": {
          "base_uri": "https://localhost:8080/"
        },
        "id": "GPp4oiX1zVSu",
        "outputId": "6989db8c-b2fc-4d12-8472-70490409236f"
      },
      "source": [
        "pip install tflearn"
      ],
      "execution_count": 1,
      "outputs": [
        {
          "output_type": "stream",
          "text": [
            "Requirement already satisfied: tflearn in /usr/local/lib/python3.6/dist-packages (0.5.0)\n",
            "Requirement already satisfied: Pillow in /usr/local/lib/python3.6/dist-packages (from tflearn) (7.0.0)\n",
            "Requirement already satisfied: six in /usr/local/lib/python3.6/dist-packages (from tflearn) (1.15.0)\n",
            "Requirement already satisfied: numpy in /usr/local/lib/python3.6/dist-packages (from tflearn) (1.19.4)\n"
          ],
          "name": "stdout"
        }
      ]
    },
    {
      "cell_type": "code",
      "metadata": {
        "colab": {
          "base_uri": "https://localhost:8080/"
        },
        "id": "kPyi0DfTyoWp",
        "outputId": "f8680ffb-6f30-44e1-867b-7813f1e627a6"
      },
      "source": [
        "import numpy as np\r\n",
        "import random\r\n",
        "import json\r\n",
        "import tensorflow as tf\r\n",
        "import tflearn\r\n",
        "import nltk\r\n",
        "nltk.download('punkt')\r\n",
        "from nltk.stem.lancaster import LancasterStemmer\r\n",
        "stemmer = LancasterStemmer()"
      ],
      "execution_count": 2,
      "outputs": [
        {
          "output_type": "stream",
          "text": [
            "WARNING:tensorflow:From /usr/local/lib/python3.6/dist-packages/tensorflow/python/compat/v2_compat.py:96: disable_resource_variables (from tensorflow.python.ops.variable_scope) is deprecated and will be removed in a future version.\n",
            "Instructions for updating:\n",
            "non-resource variables are not supported in the long term\n",
            "[nltk_data] Downloading package punkt to /root/nltk_data...\n",
            "[nltk_data]   Package punkt is already up-to-date!\n"
          ],
          "name": "stdout"
        }
      ]
    },
    {
      "cell_type": "code",
      "metadata": {
        "id": "rtDIqNDVzLxW"
      },
      "source": [
        "with open('/content/intents.json') as json_data:\r\n",
        "  intents = json.load(json_data)"
      ],
      "execution_count": 3,
      "outputs": []
    },
    {
      "cell_type": "code",
      "metadata": {
        "colab": {
          "base_uri": "https://localhost:8080/"
        },
        "id": "6iz5Vzdw0Jpq",
        "outputId": "6f2190c5-f167-4cc2-9f02-23de046cb187"
      },
      "source": [
        "intents"
      ],
      "execution_count": 4,
      "outputs": [
        {
          "output_type": "execute_result",
          "data": {
            "text/plain": [
              "{'intents': [{'context_set': '',\n",
              "   'patterns': ['Hi', 'How are you', 'Is anyone there?', 'Hello', 'Good day'],\n",
              "   'responses': ['Hello, thanks for visiting',\n",
              "    'Good to see you again',\n",
              "    'Hi there, how can I help?'],\n",
              "   'tag': 'greeting'},\n",
              "  {'patterns': ['Bye', 'See you later', 'Goodbye'],\n",
              "   'responses': ['See you later, thanks for visiting',\n",
              "    'Have a nice day',\n",
              "    'Bye! Come back again soon.'],\n",
              "   'tag': 'goodbye'},\n",
              "  {'patterns': ['Thanks', 'Thank you', \"That's helpful\"],\n",
              "   'responses': ['Happy to help!', 'Any time!', 'My pleasure'],\n",
              "   'tag': 'thanks'},\n",
              "  {'patterns': ['What hours are you open?',\n",
              "    'What are your hours?',\n",
              "    'When are you open?'],\n",
              "   'responses': [\"We're open every day 9am-9pm\",\n",
              "    'Our hours are 9am-9pm every day'],\n",
              "   'tag': 'hours'},\n",
              "  {'patterns': ['What is your location?',\n",
              "    'Where are you located?',\n",
              "    'What is your address?',\n",
              "    'Where is your restaurant situated?'],\n",
              "   'responses': ['We are on the intersection of London Alley and Bridge Avenue.',\n",
              "    'We are situated at the intersection of London Alley and Bridge Avenue',\n",
              "    'Our Address is: 1000 Bridge Avenue, London EC3N 4AJ, UK'],\n",
              "   'tag': 'location'},\n",
              "  {'patterns': ['Do you take credit cards?',\n",
              "    'Do you accept Mastercard?',\n",
              "    'Are you cash only?'],\n",
              "   'responses': ['We accept VISA, Mastercard and AMEX',\n",
              "    'We accept most major credit cards'],\n",
              "   'tag': 'payments'},\n",
              "  {'patterns': ['What is your menu for today?',\n",
              "    'What are you serving today?',\n",
              "    \"What is today's special?\"],\n",
              "   'responses': [\"Today's special is Chicken Tikka\",\n",
              "    'Our speciality for today is Chicken Tikka'],\n",
              "   'tag': 'todaysmenu'},\n",
              "  {'context_set': 'food',\n",
              "   'patterns': ['Do you provide home delivery?',\n",
              "    'Do you deliver the food?',\n",
              "    'What are the home delivery options?'],\n",
              "   'responses': ['Yes, we provide home delivery through UBER Eats and Zomato?',\n",
              "    'We have home delivery options through UBER Eats and Zomato'],\n",
              "   'tag': 'deliveryoption'},\n",
              "  {'context_filter': 'food',\n",
              "   'patterns': ['What is your Menu?',\n",
              "    'What are the main course options?',\n",
              "    'Can you tell me the most delicious dish from the menu?',\n",
              "    \"What is the today's special?\"],\n",
              "   'responses': ['You can visit www.mymenu.com for menu options',\n",
              "    'You can check out the food menu at www.mymenu.com',\n",
              "    'You can check various delicacies given in the food menu at www.mymenu.com'],\n",
              "   'tag': 'menu'}]}"
            ]
          },
          "metadata": {
            "tags": []
          },
          "execution_count": 4
        }
      ]
    },
    {
      "cell_type": "code",
      "metadata": {
        "id": "Y7Npp4dg0LIz"
      },
      "source": [
        "words = []\r\n",
        "classes= []\r\n",
        "document = []\r\n",
        "ignore = ['?', ',', '-', '_', '@', '!', '#', '/', '.' ]\r\n",
        "\r\n",
        "for intent in intents['intents']:\r\n",
        "  for pattern in intent['patterns']:\r\n",
        "    w = nltk.word_tokenize(pattern)\r\n",
        "    words.extend(w)\r\n",
        "    document.append((w, intent['tag']))\r\n",
        "    if intent['tag'] not in classes:\r\n",
        "      classes.append(intent['tag'])"
      ],
      "execution_count": 5,
      "outputs": []
    },
    {
      "cell_type": "code",
      "metadata": {
        "colab": {
          "base_uri": "https://localhost:8080/"
        },
        "id": "gSaYfbAE02lc",
        "outputId": "9a206a7e-e4c1-4934-d6ed-530101bf5466"
      },
      "source": [
        "words = [stemmer.stem(w.lower()) for w in words if w not in ignore]\r\n",
        "words = sorted(list(set(words)))\r\n",
        "\r\n",
        "classes = sorted(list(set(classes)))\r\n",
        "\r\n",
        "print(len(document), \"Documents\")\r\n",
        "print(len(classes), \"classes\", classes)\r\n",
        "print(len(words), \"unique stemmed words\", words)"
      ],
      "execution_count": 6,
      "outputs": [
        {
          "output_type": "stream",
          "text": [
            "31 Documents\n",
            "9 classes ['deliveryoption', 'goodbye', 'greeting', 'hours', 'location', 'menu', 'payments', 'thanks', 'todaysmenu']\n",
            "57 unique stemmed words [\"'s\", 'acceiv', 'address', 'anyon', 'ar', 'bye', 'can', 'card', 'cash', 'cours', 'credit', 'day', 'del', 'delicy', 'delivery', 'dish', 'do', 'food', 'for', 'from', 'good', 'goodby', 'hello', 'help', 'hi', 'hom', 'hour', 'how', 'is', 'lat', 'loc', 'main', 'mastercard', 'me', 'menu', 'most', 'on', 'op', 'opt', 'provid', 'resta', 'see', 'serv', 'situ', 'spec', 'tak', 'tel', 'thank', 'that', 'the', 'ther', 'today', 'what', 'when', 'wher', 'yo', 'you']\n"
          ],
          "name": "stdout"
        }
      ]
    },
    {
      "cell_type": "code",
      "metadata": {
        "colab": {
          "base_uri": "https://localhost:8080/"
        },
        "id": "B5cMDNBq2iiI",
        "outputId": "2a0c7417-9f10-4254-d6a4-a8a9961cae95"
      },
      "source": [
        "train = []\r\n",
        "output = []\r\n",
        "output_empty = [0] * len(classes)\r\n",
        "for doc in document:\r\n",
        "  bag = []\r\n",
        "  pattern_words = doc[0]\r\n",
        "  pattern_words = [stemmer.stem(word.lower()) for word in pattern_words]\r\n",
        "\r\n",
        "  for w in words:\r\n",
        "    bag.append(1) if w in pattern_words else bag.append(0)\r\n",
        "\r\n",
        "    # op is '1' for current tag and '0' for rest of the other tags\r\n",
        "    output_row = list(output_empty)\r\n",
        "    output_row[classes.index(doc[1])] = 1\r\n",
        "\r\n",
        "    train.append([bag, output_row])\r\n",
        "\r\n",
        "random.shuffle(train)\r\n",
        "train = np.array(train)\r\n",
        "\r\n",
        "# training list\r\n",
        "train_x = list(train[:, 0])\r\n",
        "train_y = list(train[:, 1])"
      ],
      "execution_count": 7,
      "outputs": [
        {
          "output_type": "stream",
          "text": [
            "/usr/local/lib/python3.6/dist-packages/ipykernel_launcher.py:19: VisibleDeprecationWarning: Creating an ndarray from ragged nested sequences (which is a list-or-tuple of lists-or-tuples-or ndarrays with different lengths or shapes) is deprecated. If you meant to do this, you must specify 'dtype=object' when creating the ndarray\n"
          ],
          "name": "stderr"
        }
      ]
    },
    {
      "cell_type": "code",
      "metadata": {
        "colab": {
          "base_uri": "https://localhost:8080/"
        },
        "id": "2wCHpXuY-j8R",
        "outputId": "f12b1616-385f-4b15-eb44-d487d42cbf64"
      },
      "source": [
        "print(len(train_x))\r\n",
        "print(len(train_y[0]))"
      ],
      "execution_count": 8,
      "outputs": [
        {
          "output_type": "stream",
          "text": [
            "1767\n",
            "9\n"
          ],
          "name": "stdout"
        }
      ]
    },
    {
      "cell_type": "code",
      "metadata": {
        "colab": {
          "base_uri": "https://localhost:8080/"
        },
        "id": "cikGici38vCG",
        "outputId": "33047da3-474c-430c-c218-217b7f705e7e"
      },
      "source": [
        "#tf.reset_default_graph()\r\n",
        "nn = tflearn.input_data(shape = [None, len(train_x[0])])\r\n",
        "nn = tflearn.fully_connected(nn, 10)\r\n",
        "nn = tflearn.fully_connected(nn, 10)\r\n",
        "nn = tflearn.fully_connected(nn, len(train_y[0]), activation = 'softmax')\r\n",
        "nn = tflearn.regression(nn)\r\n",
        "\r\n",
        "model = tflearn.DNN(nn, tensorboard_dir = 'tflearn_logs')\r\n",
        "model.fit(train_x, train_y, n_epoch = 800, batch_size = 8, show_metric = True)\r\n",
        "model.save('model.tflearn')"
      ],
      "execution_count": 9,
      "outputs": [
        {
          "output_type": "stream",
          "text": [
            "Training Step: 45353  | total loss: \u001b[1m\u001b[32m0.00000\u001b[0m\u001b[0m | time: 0.318s\n",
            "\u001b[2K\r| Adam | epoch: 206 | loss: 0.00000 - acc: 1.0000 -- iter: 0384/1767\n"
          ],
          "name": "stdout"
        }
      ]
    },
    {
      "cell_type": "code",
      "metadata": {
        "id": "OnehmykyYQwu"
      },
      "source": [
        "import pickle\r\n",
        "pickle.dump({'words': words, 'classes':classes, 'train_x': train_x, 'train_y': train_y}, open(\"trained_data\", \"wb\"))"
      ],
      "execution_count": 12,
      "outputs": []
    },
    {
      "cell_type": "code",
      "metadata": {
        "id": "uJoUCllGY5c6"
      },
      "source": [
        "data = pickle.load(open(\"/content/trained_data\", \"rb\"))\r\n",
        "words = data[\"words\"]\r\n",
        "classes = data[\"classes\"]\r\n",
        "train_x = data[\"train_x\"]\r\n",
        "train_y = data[\"train_y\"]"
      ],
      "execution_count": 13,
      "outputs": []
    },
    {
      "cell_type": "code",
      "metadata": {
        "id": "3JY_zDZOY557"
      },
      "source": [
        "with open('intents.json') as json_data:\r\n",
        "  intents = json.load(json_data)"
      ],
      "execution_count": 14,
      "outputs": []
    },
    {
      "cell_type": "code",
      "metadata": {
        "colab": {
          "base_uri": "https://localhost:8080/"
        },
        "id": "Nxz-w7sFY6S7",
        "outputId": "2ca3c7e6-c0a4-4d49-94be-684a580f9d60"
      },
      "source": [
        "model.load('./model.tflearn')"
      ],
      "execution_count": 30,
      "outputs": [
        {
          "output_type": "stream",
          "text": [
            "INFO:tensorflow:Restoring parameters from /content/model.tflearn\n"
          ],
          "name": "stdout"
        }
      ]
    },
    {
      "cell_type": "code",
      "metadata": {
        "id": "OgkEz_HMvduk"
      },
      "source": [
        "def clean_sentence(sentence):\r\n",
        "  sentence_words = nltk.word_tokenize(sentence)\r\n",
        "  sentence_words = [stemmer.stem(word.lower()) for word in sentence_words]\r\n",
        "  return sentence_words\r\n",
        "\r\n",
        "def bag_of_words(sentence, words, show_details = False):\r\n",
        "  sentence_words = clean_sentence(sentence)\r\n",
        "  bag = [0] * len(words)\r\n",
        "  for s in sentence_words:\r\n",
        "    for i, w in enumerate(words):\r\n",
        "      if w == s:\r\n",
        "        bag[i] =1\r\n",
        "        if show_details:\r\n",
        "          print(\"found in bag: %s\" %w)\r\n",
        "  return(np.array(bag))\r\n"
      ],
      "execution_count": 31,
      "outputs": []
    },
    {
      "cell_type": "code",
      "metadata": {
        "id": "wKnocygrxPQc"
      },
      "source": [
        "thres = 0.30\r\n",
        "def classify(sentence):\r\n",
        "  results = model.predict([bag_of_words(sentence, words)])[0]\r\n",
        "  results = [[i,r] for i, r in enumerate(results) if r>thres]\r\n",
        "  results.sort(key = lambda x: x[1], reverse = True)\r\n",
        "  return_list = []\r\n",
        "  for r in results:\r\n",
        "    return_list.append((classes[r[0]], r[1]))\r\n",
        "  return return_list\r\n",
        "\r\n",
        "def response(sentence, userID='123', show_details=False):\r\n",
        "    results = classify(sentence)\r\n",
        "    if results:\r\n",
        "        while results:\r\n",
        "            for i in intents['intents']:\r\n",
        "                if i['tag'] == results[0][0]:\r\n",
        "                    return print(random.choice(i['responses']))\r\n",
        "\r\n",
        "            results.pop(0)"
      ],
      "execution_count": 36,
      "outputs": []
    },
    {
      "cell_type": "code",
      "metadata": {
        "colab": {
          "base_uri": "https://localhost:8080/"
        },
        "id": "TAAZiPcrzgLB",
        "outputId": "7d504d8f-ba80-4407-f739-8b2488afadd2"
      },
      "source": [
        "classify('What are your hours of labour')"
      ],
      "execution_count": 37,
      "outputs": [
        {
          "output_type": "execute_result",
          "data": {
            "text/plain": [
              "[('hours', 1.0)]"
            ]
          },
          "metadata": {
            "tags": []
          },
          "execution_count": 37
        }
      ]
    },
    {
      "cell_type": "code",
      "metadata": {
        "colab": {
          "base_uri": "https://localhost:8080/"
        },
        "id": "iSUDN3qjz68k",
        "outputId": "38e15faa-bbfa-4fe2-87ff-385339524696"
      },
      "source": [
        "response('What are your hours of labour')"
      ],
      "execution_count": 38,
      "outputs": [
        {
          "output_type": "stream",
          "text": [
            "We're open every day 9am-9pm\n"
          ],
          "name": "stdout"
        }
      ]
    },
    {
      "cell_type": "code",
      "metadata": {
        "colab": {
          "base_uri": "https://localhost:8080/"
        },
        "id": "YzxZ2TA00Iak",
        "outputId": "a2ad7a36-724d-4931-ad94-135e4c68426d"
      },
      "source": [
        "response('Do you accept Credit Card?')\r\n"
      ],
      "execution_count": 45,
      "outputs": [
        {
          "output_type": "stream",
          "text": [
            "We accept VISA, Mastercard and AMEX\n"
          ],
          "name": "stdout"
        }
      ]
    },
    {
      "cell_type": "code",
      "metadata": {
        "colab": {
          "base_uri": "https://localhost:8080/"
        },
        "id": "aiygqxtr0LgS",
        "outputId": "975e747f-785e-4489-9bcc-673fd9f7af3d"
      },
      "source": [
        "classify('food')"
      ],
      "execution_count": 39,
      "outputs": [
        {
          "output_type": "execute_result",
          "data": {
            "text/plain": [
              "[('deliveryoption', 0.82857347)]"
            ]
          },
          "metadata": {
            "tags": []
          },
          "execution_count": 39
        }
      ]
    },
    {
      "cell_type": "code",
      "metadata": {
        "colab": {
          "base_uri": "https://localhost:8080/"
        },
        "id": "a7QlUHov11jd",
        "outputId": "a303d249-4b12-4f5c-d87d-25efe0212446"
      },
      "source": [
        "response('food')"
      ],
      "execution_count": 40,
      "outputs": [
        {
          "output_type": "stream",
          "text": [
            "We have home delivery options through UBER Eats and Zomato\n"
          ],
          "name": "stdout"
        }
      ]
    },
    {
      "cell_type": "code",
      "metadata": {
        "colab": {
          "base_uri": "https://localhost:8080/"
        },
        "id": "0nmL4Dso14y4",
        "outputId": "61bbac5c-5e4c-4eaa-9339-596f83ecb172"
      },
      "source": [
        "response('What is menu for today?')\r\n"
      ],
      "execution_count": 42,
      "outputs": [
        {
          "output_type": "stream",
          "text": [
            "Our speciality for today is Chicken Tikka\n"
          ],
          "name": "stdout"
        }
      ]
    },
    {
      "cell_type": "code",
      "metadata": {
        "colab": {
          "base_uri": "https://localhost:8080/"
        },
        "id": "IUEV9vUZ17VF",
        "outputId": "4c40dbb5-58b1-49d4-d6ca-ddbd6c280576"
      },
      "source": [
        "response(\"Hi there!\")\r\n"
      ],
      "execution_count": 44,
      "outputs": [
        {
          "output_type": "stream",
          "text": [
            "Hello, thanks for visiting\n"
          ],
          "name": "stdout"
        }
      ]
    },
    {
      "cell_type": "code",
      "metadata": {
        "colab": {
          "base_uri": "https://localhost:8080/"
        },
        "id": "u-XGlIW82D--",
        "outputId": "adf65355-abc4-4534-8216-827b1668fd73"
      },
      "source": [
        "response('Thanks')"
      ],
      "execution_count": 46,
      "outputs": [
        {
          "output_type": "stream",
          "text": [
            "Happy to help!\n"
          ],
          "name": "stdout"
        }
      ]
    },
    {
      "cell_type": "code",
      "metadata": {
        "id": "L5mTwm_f2QNf"
      },
      "source": [
        ""
      ],
      "execution_count": null,
      "outputs": []
    }
  ]
}